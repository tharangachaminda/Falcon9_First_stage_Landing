{
 "cells": [
  {
   "cell_type": "markdown",
   "id": "1c2e23f8-d714-4e90-bd19-107798bd0c84",
   "metadata": {},
   "source": [
    "# Data Collection - Falcon 9 WikiPedia Page (Webscraping)"
   ]
  },
  {
   "cell_type": "code",
   "execution_count": null,
   "id": "b80a1f33-6fc9-4e15-a601-d76f5708ece2",
   "metadata": {},
   "outputs": [],
   "source": []
  }
 ],
 "metadata": {
  "kernelspec": {
   "display_name": "Python 3 (ipykernel)",
   "language": "python",
   "name": "python3"
  },
  "language_info": {
   "codemirror_mode": {
    "name": "ipython",
    "version": 3
   },
   "file_extension": ".py",
   "mimetype": "text/x-python",
   "name": "python",
   "nbconvert_exporter": "python",
   "pygments_lexer": "ipython3",
   "version": "3.10.9"
  }
 },
 "nbformat": 4,
 "nbformat_minor": 5
}
