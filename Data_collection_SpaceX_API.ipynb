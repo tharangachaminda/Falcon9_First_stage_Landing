{
 "cells": [
  {
   "cell_type": "markdown",
   "id": "b93102a8-6774-4cdc-a94e-9545b5fba14c",
   "metadata": {},
   "source": [
    "# Data Collection - SpaceX API"
   ]
  },
  {
   "cell_type": "code",
   "execution_count": null,
   "id": "0ecf98e9-ecdb-41a6-a9ac-0dfafd7904bb",
   "metadata": {},
   "outputs": [],
   "source": []
  }
 ],
 "metadata": {
  "kernelspec": {
   "display_name": "Python 3 (ipykernel)",
   "language": "python",
   "name": "python3"
  },
  "language_info": {
   "codemirror_mode": {
    "name": "ipython",
    "version": 3
   },
   "file_extension": ".py",
   "mimetype": "text/x-python",
   "name": "python",
   "nbconvert_exporter": "python",
   "pygments_lexer": "ipython3",
   "version": "3.10.9"
  }
 },
 "nbformat": 4,
 "nbformat_minor": 5
}
