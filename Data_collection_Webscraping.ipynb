{
 "cells": [
  {
   "cell_type": "markdown",
   "id": "1c2e23f8-d714-4e90-bd19-107798bd0c84",
   "metadata": {},
   "source": [
    "# Data Collection - Falcon 9 WikiPedia Page (Webscraping)"
   ]
  },
  {
   "cell_type": "code",
   "execution_count": 102,
   "id": "b80a1f33-6fc9-4e15-a601-d76f5708ece2",
   "metadata": {},
   "outputs": [],
   "source": [
    "import sys\n",
    "\n",
    "import requests\n",
    "from bs4 import BeautifulSoup\n",
    "import re\n",
    "import unicodedata\n",
    "import pandas as pd\n",
    "import datetime"
   ]
  },
  {
   "cell_type": "markdown",
   "id": "ac261ac8-df6c-42c6-ab9b-087b6c8233e7",
   "metadata": {},
   "source": [
    "Normally when doing webscraping, we have to deal with HTML content with different text formatting and many unwanted content in it. Following helper functions helps to extract relevant data from scrapped HTML content."
   ]
  },
  {
   "cell_type": "code",
   "execution_count": 3,
   "id": "598795fe-6bab-47d3-9a70-ca630bf9d142",
   "metadata": {},
   "outputs": [],
   "source": [
    "def date_time(table_cells):\n",
    "    \"\"\"\n",
    "    This function returns the data and time from the HTML  table cell\n",
    "    Input: the  element of a table data cell extracts extra row\n",
    "    \"\"\"\n",
    "    return [data_time.strip() for data_time in list(table_cells.strings)][0:2]\n",
    "\n",
    "def booster_version(table_cells):\n",
    "    \"\"\"\n",
    "    This function returns the booster version from the HTML  table cell \n",
    "    Input: the  element of a table data cell extracts extra row\n",
    "    \"\"\"\n",
    "    out=''.join([booster_version for i,booster_version in enumerate( table_cells.strings) if i%2==0][0:-1])\n",
    "    return out\n",
    "\n",
    "def landing_status(table_cells):\n",
    "    \"\"\"\n",
    "    This function returns the landing status from the HTML table cell \n",
    "    Input: the  element of a table data cell extracts extra row\n",
    "    \"\"\"\n",
    "    out=[i for i in table_cells.strings][0]\n",
    "    return out\n",
    "\n",
    "\n",
    "def get_mass(table_cells):\n",
    "    mass=unicodedata.normalize(\"NFKD\", table_cells.text).strip()\n",
    "    if mass:\n",
    "        mass.find(\"kg\")\n",
    "        new_mass=mass[0:mass.find(\"kg\")+2]\n",
    "    else:\n",
    "        new_mass=0\n",
    "    return new_mass\n",
    "\n",
    "\n",
    "def extract_column_from_header(row):\n",
    "    \"\"\"\n",
    "    This function returns the landing status from the HTML table cell \n",
    "    Input: the  element of a table data cell extracts extra row\n",
    "    \"\"\"\n",
    "    if (row.br):\n",
    "        row.br.extract()\n",
    "    if row.a:\n",
    "        row.a.extract()\n",
    "    if row.sup:\n",
    "        row.sup.extract()\n",
    "        \n",
    "    colunm_name = ' '.join(row.contents)\n",
    "    \n",
    "    # Filter the digit and empty names\n",
    "    if not(colunm_name.strip().isdigit()):\n",
    "        colunm_name = colunm_name.strip()\n",
    "        return colunm_name    \n"
   ]
  },
  {
   "cell_type": "markdown",
   "id": "c6940c15-c64d-41a6-964b-84de645e5bfb",
   "metadata": {},
   "source": [
    "When examine Falcon 9 Wikipedia page I can see that, there are two pages that I can fetch data from.\n",
    "- Old launches from 2010 - 2019 - https://en.wikipedia.org/wiki/List_of_Falcon_9_and_Falcon_Heavy_launches_(2010%E2%80%932019)\n",
    "- Latest launches 2020 to present date - https://en.wikipedia.org/wiki/List_of_Falcon_9_and_Falcon_Heavy_launches\n",
    "\n",
    "(It seems Wikipedia archives/sparate data from orginal page after 10 years)\n",
    "\n",
    "However, in this project I will use both HTML pages and extract whole dataset."
   ]
  },
  {
   "cell_type": "code",
   "execution_count": 4,
   "id": "8b042e9c-5e89-4d86-af55-2f1a9d2d3659",
   "metadata": {},
   "outputs": [],
   "source": [
    "url_old = \"https://en.wikipedia.org/wiki/List_of_Falcon_9_and_Falcon_Heavy_launches_(2010%E2%80%932019)\"\n",
    "url_new = \"https://en.wikipedia.org/wiki/List_of_Falcon_9_and_Falcon_Heavy_launches\""
   ]
  },
  {
   "cell_type": "code",
   "execution_count": 5,
   "id": "4760f211-6880-4e25-b3f8-e4f2ce0f1c01",
   "metadata": {},
   "outputs": [],
   "source": [
    "# Load html content from two sites\n",
    "html_old = requests.get(url_old)\n",
    "html_old_respose = html_old.text"
   ]
  },
  {
   "cell_type": "code",
   "execution_count": 6,
   "id": "8657c437-6f7d-493d-a336-dd538f58dbde",
   "metadata": {},
   "outputs": [],
   "source": [
    "html_new = requests.get(url_new)\n",
    "html_new_response = html_new.text"
   ]
  },
  {
   "cell_type": "markdown",
   "id": "d61d978b-337b-412f-ab6b-ead1a9ca653d",
   "metadata": {},
   "source": [
    "#### Process HTML content"
   ]
  },
  {
   "cell_type": "code",
   "execution_count": 7,
   "id": "b4661d58-00e5-4c69-9190-374b1a9e31b0",
   "metadata": {},
   "outputs": [
    {
     "data": {
      "text/plain": [
       "<title>List of Falcon 9 and Falcon Heavy launches (2010–2019) - Wikipedia</title>"
      ]
     },
     "execution_count": 7,
     "metadata": {},
     "output_type": "execute_result"
    }
   ],
   "source": [
    "soup_old = BeautifulSoup(html_old_respose, 'html.parser')\n",
    "soup_old.title"
   ]
  },
  {
   "cell_type": "markdown",
   "id": "9ce66df4-cf82-4179-a4de-2acb94261282",
   "metadata": {},
   "source": [
    "*soup_old* BeautifulSoup object has been created."
   ]
  },
  {
   "cell_type": "code",
   "execution_count": 23,
   "id": "848eb6d3-be82-4f68-9ac2-131646c7a453",
   "metadata": {},
   "outputs": [
    {
     "data": {
      "text/plain": [
       "<title>List of Falcon 9 and Falcon Heavy launches - Wikipedia</title>"
      ]
     },
     "execution_count": 23,
     "metadata": {},
     "output_type": "execute_result"
    }
   ],
   "source": [
    "soup_new = BeautifulSoup(html_new_response, 'html.parser')\n",
    "soup_new.title"
   ]
  },
  {
   "cell_type": "markdown",
   "id": "19099110-23a2-4ce3-848f-bec8930bf95d",
   "metadata": {},
   "source": [
    "*soup_new* BeautifulSoup object has been created"
   ]
  },
  {
   "cell_type": "code",
   "execution_count": 13,
   "id": "52241fa4-0314-4341-80bc-fe78f6dc3d6a",
   "metadata": {},
   "outputs": [],
   "source": [
    "table_headers_list = soup_old.find(name='table', class_=\"wikitable plainrowheaders collapsible\").find_all('th')"
   ]
  },
  {
   "cell_type": "code",
   "execution_count": 19,
   "id": "98f4b3b7-6ea0-4062-b01f-eb0054f5f98b",
   "metadata": {},
   "outputs": [],
   "source": [
    "# collect column names from HTML table\n",
    "column_names = []\n",
    "for theader in table_headers_list:\n",
    "    col_header = extract_column_from_header(theader)\n",
    "    if col_header is not None and len(col_header) > 0:\n",
    "        column_names.append(col_header)"
   ]
  },
  {
   "cell_type": "code",
   "execution_count": 20,
   "id": "d2419b97-f1ae-4db2-afc1-e10c801b321b",
   "metadata": {},
   "outputs": [
    {
     "data": {
      "text/plain": [
       "['Flight No.',\n",
       " 'Date and time ( )',\n",
       " 'Launch site',\n",
       " 'Payload',\n",
       " 'Payload mass',\n",
       " 'Orbit',\n",
       " 'Customer',\n",
       " 'Launch outcome']"
      ]
     },
     "execution_count": 20,
     "metadata": {},
     "output_type": "execute_result"
    }
   ],
   "source": [
    "column_names"
   ]
  },
  {
   "cell_type": "code",
   "execution_count": 37,
   "id": "972eb39e-574e-4b53-a130-ea2731c90901",
   "metadata": {},
   "outputs": [
    {
     "data": {
      "text/plain": [
       "{'Flight No.': None,\n",
       " 'Date and time ( )': None,\n",
       " 'Launch site': None,\n",
       " 'Payload': None,\n",
       " 'Payload mass': None,\n",
       " 'Orbit': None,\n",
       " 'Customer': None,\n",
       " 'Launch outcome': None}"
      ]
     },
     "execution_count": 37,
     "metadata": {},
     "output_type": "execute_result"
    }
   ],
   "source": [
    "# create a dictionary for storing data\n",
    "launch_dict= dict.fromkeys(column_names)\n",
    "launch_dict"
   ]
  },
  {
   "cell_type": "markdown",
   "id": "3bd5a50d-fd4b-433a-8a76-1022deb0a5bf",
   "metadata": {},
   "source": [
    "*Date and time ( )* column is not ncessary. Let's delete it and add some more usable columns to the dictionary."
   ]
  },
  {
   "cell_type": "code",
   "execution_count": 38,
   "id": "f5f376a9-dd88-4fb6-a2d4-766c90c4d42e",
   "metadata": {},
   "outputs": [],
   "source": [
    "del(launch_dict['Date and time ( )'])\n",
    "\n",
    "# add more usable columns and initialize them with empty lists\n",
    "launch_dict['Flight No.'] = []\n",
    "launch_dict['Launch site'] = []\n",
    "launch_dict['Payload'] = []\n",
    "launch_dict['Payload mass'] = []\n",
    "launch_dict['Orbit'] = []\n",
    "launch_dict['Customer'] = []\n",
    "launch_dict['Launch outcome'] = []\n",
    "# Added some new columns\n",
    "launch_dict['Version Booster'] = []\n",
    "launch_dict['Booster landing'] = []\n",
    "launch_dict['Date'] = []\n",
    "launch_dict['Time'] = []"
   ]
  },
  {
   "cell_type": "markdown",
   "id": "df67f912-57c6-4d91-9a99-d3ffbc93b465",
   "metadata": {},
   "source": [
    "Let's extract data from both BeautifulSoup objects and fill up dictionary.\n",
    "\n",
    "Usually, HTML tables in Wiki pages are likely to contain unexpected annotations and other types of noises, such as reference links `B0004.1[8]`, missing values `N/A [e]`, inconsistent formatting, etc.\n",
    "\n",
    "Folowing code snippet will extract and filter relevant content and store them in the dict object."
   ]
  },
  {
   "cell_type": "code",
   "execution_count": 39,
   "id": "912c2bbd-9430-4089-aadd-4bf91920f320",
   "metadata": {},
   "outputs": [],
   "source": [
    "# following loop will extract and store old data first, and new data second.\n",
    "soup_objects = [soup_old, soup_new]\n",
    "\n",
    "for soup in soup_objects:\n",
    "    #Extract each table \n",
    "    for table_number, table in enumerate(soup.find_all(name='table', class_=\"wikitable plainrowheaders collapsible\")):\n",
    "       # get table row \n",
    "        for rows in table.find_all(\"tr\"):\n",
    "            #check to see if first table heading is as number corresponding to launch a number \n",
    "            if rows.th:\n",
    "                if rows.th.string:\n",
    "                    flight_number = rows.th.string.strip()\n",
    "                    flag = flight_number.isdigit()\n",
    "            else:\n",
    "                flag = False\n",
    "            #get table element \n",
    "            row = rows.find_all('td')\n",
    "            #if it is number save cells in a dictonary \n",
    "            if flag:\n",
    "                # Flight Number value\n",
    "                launch_dict['Flight No.'].append(flight_number)\n",
    "\n",
    "                datatimelist = date_time(row[0])\n",
    "\n",
    "                # Date value\n",
    "                date = datatimelist[0].strip(',')\n",
    "                launch_dict['Date'].append(date)\n",
    "\n",
    "                # Time value\n",
    "                time = datatimelist[1]\n",
    "                launch_dict['Time'].append(time)\n",
    "\n",
    "                # Booster version\n",
    "                bv = booster_version(row[1])\n",
    "                if not(bv):\n",
    "                    bv = row[1].a.string\n",
    "                launch_dict['Version Booster'].append(bv)\n",
    "\n",
    "                # Launch Site\n",
    "                launch_site = row[2].a.string\n",
    "                launch_dict['Launch site'].append(launch_site)\n",
    "\n",
    "                # Payload\n",
    "                payload = row[3].a.string\n",
    "                launch_dict['Payload'].append(payload)\n",
    "\n",
    "                # Payload Mass\n",
    "                payload_mass = get_mass(row[4])\n",
    "                launch_dict['Payload mass'].append(payload_mass)\n",
    "\n",
    "                # Orbit\n",
    "                orbit = row[5].a.string\n",
    "                launch_dict['Orbit'].append(orbit)\n",
    "\n",
    "                # Customer\n",
    "                if row[6].a is not None:\n",
    "                    customer = row[6].a.string\n",
    "                else:\n",
    "                    customer = row[6].text\n",
    "                launch_dict['Customer'].append(customer)\n",
    "\n",
    "                # Launch outcome\n",
    "                launch_outcome = list(row[7].strings)[0]        \n",
    "                launch_dict['Launch outcome'].append(launch_outcome)\n",
    "\n",
    "                # Booster landing\n",
    "                booster_landing = landing_status(row[8])\n",
    "                launch_dict['Booster landing'].append(booster_landing)"
   ]
  },
  {
   "cell_type": "markdown",
   "id": "c8c74370-7b3e-43b4-96f1-7b44e8cab9a6",
   "metadata": {},
   "source": [
    "Check for the length of each List in the dict object. They must be the same. Otherwise an error occurs when creating Pandas DataFrame."
   ]
  },
  {
   "cell_type": "code",
   "execution_count": 40,
   "id": "513b2968-f6d6-4ac8-bfee-a04e23f82bb4",
   "metadata": {},
   "outputs": [
    {
     "name": "stdout",
     "output_type": "stream",
     "text": [
      "Flight No. 241\n",
      "Launch site 241\n",
      "Payload 241\n",
      "Payload mass 241\n",
      "Orbit 241\n",
      "Customer 241\n",
      "Launch outcome 241\n",
      "Version Booster 241\n",
      "Booster landing 241\n",
      "Date 241\n",
      "Time 241\n"
     ]
    }
   ],
   "source": [
    "for launch_dict_item in launch_dict:\n",
    "    print(launch_dict_item, len(launch_dict[launch_dict_item]))"
   ]
  },
  {
   "cell_type": "markdown",
   "id": "07cefa41-8313-4ea3-a14d-142a8cd58d04",
   "metadata": {},
   "source": [
    "Every List object has the same length of 241. Now let's create the Pandas DataFrame."
   ]
  },
  {
   "cell_type": "code",
   "execution_count": 65,
   "id": "971ab632-548f-451e-abd8-23e2064d431d",
   "metadata": {},
   "outputs": [],
   "source": [
    "data_from_wiki = pd.DataFrame(launch_dict)"
   ]
  },
  {
   "cell_type": "code",
   "execution_count": 66,
   "id": "74a96a2c-d1f4-4abf-9f9b-faa254c20a48",
   "metadata": {},
   "outputs": [
    {
     "data": {
      "text/html": [
       "<div>\n",
       "<style scoped>\n",
       "    .dataframe tbody tr th:only-of-type {\n",
       "        vertical-align: middle;\n",
       "    }\n",
       "\n",
       "    .dataframe tbody tr th {\n",
       "        vertical-align: top;\n",
       "    }\n",
       "\n",
       "    .dataframe thead th {\n",
       "        text-align: right;\n",
       "    }\n",
       "</style>\n",
       "<table border=\"1\" class=\"dataframe\">\n",
       "  <thead>\n",
       "    <tr style=\"text-align: right;\">\n",
       "      <th></th>\n",
       "      <th>Flight No.</th>\n",
       "      <th>Launch site</th>\n",
       "      <th>Payload</th>\n",
       "      <th>Payload mass</th>\n",
       "      <th>Orbit</th>\n",
       "      <th>Customer</th>\n",
       "      <th>Launch outcome</th>\n",
       "      <th>Version Booster</th>\n",
       "      <th>Booster landing</th>\n",
       "      <th>Date</th>\n",
       "      <th>Time</th>\n",
       "    </tr>\n",
       "  </thead>\n",
       "  <tbody>\n",
       "    <tr>\n",
       "      <th>0</th>\n",
       "      <td>1</td>\n",
       "      <td>CCSFS</td>\n",
       "      <td>Dragon Spacecraft Qualification Unit</td>\n",
       "      <td>N</td>\n",
       "      <td>LEO</td>\n",
       "      <td>SpaceX</td>\n",
       "      <td>Success\\n</td>\n",
       "      <td>F9 v1.0</td>\n",
       "      <td>Failure</td>\n",
       "      <td>4 June 2010</td>\n",
       "      <td>18:45</td>\n",
       "    </tr>\n",
       "    <tr>\n",
       "      <th>1</th>\n",
       "      <td>2</td>\n",
       "      <td>CCSFS</td>\n",
       "      <td>SpaceX COTS Demo Flight 1</td>\n",
       "      <td>U</td>\n",
       "      <td>LEO</td>\n",
       "      <td>NASA</td>\n",
       "      <td>Success</td>\n",
       "      <td>F9 v1.0</td>\n",
       "      <td>Failure</td>\n",
       "      <td>8 December 2010</td>\n",
       "      <td>15:43</td>\n",
       "    </tr>\n",
       "    <tr>\n",
       "      <th>2</th>\n",
       "      <td>3</td>\n",
       "      <td>CCSFS</td>\n",
       "      <td>SpaceX COTS Demo Flight 2</td>\n",
       "      <td>525 kg</td>\n",
       "      <td>LEO</td>\n",
       "      <td>NASA</td>\n",
       "      <td>Success</td>\n",
       "      <td>F9 v1.0</td>\n",
       "      <td>No attempt\\n</td>\n",
       "      <td>22 May 2012</td>\n",
       "      <td>07:44</td>\n",
       "    </tr>\n",
       "    <tr>\n",
       "      <th>3</th>\n",
       "      <td>4</td>\n",
       "      <td>CCSFS</td>\n",
       "      <td>SpaceX CRS-1</td>\n",
       "      <td>4,700 kg</td>\n",
       "      <td>LEO</td>\n",
       "      <td>NASA</td>\n",
       "      <td>Success\\n</td>\n",
       "      <td>F9 v1.0</td>\n",
       "      <td>No attempt</td>\n",
       "      <td>8 October 2012</td>\n",
       "      <td>00:35</td>\n",
       "    </tr>\n",
       "    <tr>\n",
       "      <th>4</th>\n",
       "      <td>5</td>\n",
       "      <td>CCSFS</td>\n",
       "      <td>SpaceX CRS-2</td>\n",
       "      <td>4,877 kg</td>\n",
       "      <td>LEO</td>\n",
       "      <td>NASA</td>\n",
       "      <td>Success\\n</td>\n",
       "      <td>F9 v1.0</td>\n",
       "      <td>No attempt\\n</td>\n",
       "      <td>1 March 2013</td>\n",
       "      <td>15:10</td>\n",
       "    </tr>\n",
       "  </tbody>\n",
       "</table>\n",
       "</div>"
      ],
      "text/plain": [
       "  Flight No. Launch site                               Payload Payload mass  \\\n",
       "0          1       CCSFS  Dragon Spacecraft Qualification Unit            N   \n",
       "1          2       CCSFS             SpaceX COTS Demo Flight 1            U   \n",
       "2          3       CCSFS             SpaceX COTS Demo Flight 2       525 kg   \n",
       "3          4       CCSFS                          SpaceX CRS-1     4,700 kg   \n",
       "4          5       CCSFS                          SpaceX CRS-2     4,877 kg   \n",
       "\n",
       "  Orbit Customer Launch outcome Version Booster Booster landing  \\\n",
       "0   LEO   SpaceX      Success\\n        F9 v1.0          Failure   \n",
       "1   LEO     NASA        Success        F9 v1.0          Failure   \n",
       "2   LEO     NASA        Success        F9 v1.0     No attempt\\n   \n",
       "3   LEO     NASA      Success\\n        F9 v1.0       No attempt   \n",
       "4   LEO     NASA      Success\\n        F9 v1.0     No attempt\\n   \n",
       "\n",
       "              Date   Time  \n",
       "0      4 June 2010  18:45  \n",
       "1  8 December 2010  15:43  \n",
       "2      22 May 2012  07:44  \n",
       "3   8 October 2012  00:35  \n",
       "4     1 March 2013  15:10  "
      ]
     },
     "execution_count": 66,
     "metadata": {},
     "output_type": "execute_result"
    }
   ],
   "source": [
    "data_from_wiki.head()"
   ]
  },
  {
   "cell_type": "markdown",
   "id": "cd8c067d-d91c-4e44-9c35-a149e2a9fc86",
   "metadata": {},
   "source": [
    "Looks like *\\n* line break is still there in some columns. Let's look for them and remove them."
   ]
  },
  {
   "cell_type": "code",
   "execution_count": 67,
   "id": "daaabf44-24ea-429d-ae3b-614c4c331014",
   "metadata": {},
   "outputs": [],
   "source": [
    "for col in launch_dict:\n",
    "    num_of_line_breaks = (data_from_wiki[col].str.find('\\n') > -1).sum()\n",
    "    if num_of_line_breaks > 0:\n",
    "        data_from_wiki[col] = data_from_wiki[col].str.strip('\\n')"
   ]
  },
  {
   "cell_type": "markdown",
   "id": "03cbc699-4f40-411d-bf6d-d7f800256956",
   "metadata": {},
   "source": [
    "Convert *Date* and *Time* values to \"YYYY-MM-DD\" and \"HH:mm:ss\" format."
   ]
  },
  {
   "cell_type": "code",
   "execution_count": 68,
   "id": "2910047b-c0f9-46d8-99da-91421098085b",
   "metadata": {},
   "outputs": [],
   "source": [
    "data_from_wiki['Date'] = pd.to_datetime(data_from_wiki['Date']).dt.date"
   ]
  },
  {
   "cell_type": "code",
   "execution_count": 69,
   "id": "57208701-0736-49bf-a09a-952e0512123f",
   "metadata": {},
   "outputs": [],
   "source": [
    "data_from_wiki['Time'] = pd.to_datetime(data_from_wiki['Time']).dt.time"
   ]
  },
  {
   "cell_type": "code",
   "execution_count": 70,
   "id": "98098e24-c695-431f-a7cb-e2ac7cc0e065",
   "metadata": {},
   "outputs": [
    {
     "data": {
      "text/html": [
       "<div>\n",
       "<style scoped>\n",
       "    .dataframe tbody tr th:only-of-type {\n",
       "        vertical-align: middle;\n",
       "    }\n",
       "\n",
       "    .dataframe tbody tr th {\n",
       "        vertical-align: top;\n",
       "    }\n",
       "\n",
       "    .dataframe thead th {\n",
       "        text-align: right;\n",
       "    }\n",
       "</style>\n",
       "<table border=\"1\" class=\"dataframe\">\n",
       "  <thead>\n",
       "    <tr style=\"text-align: right;\">\n",
       "      <th></th>\n",
       "      <th>Flight No.</th>\n",
       "      <th>Launch site</th>\n",
       "      <th>Payload</th>\n",
       "      <th>Payload mass</th>\n",
       "      <th>Orbit</th>\n",
       "      <th>Customer</th>\n",
       "      <th>Launch outcome</th>\n",
       "      <th>Version Booster</th>\n",
       "      <th>Booster landing</th>\n",
       "      <th>Date</th>\n",
       "      <th>Time</th>\n",
       "    </tr>\n",
       "  </thead>\n",
       "  <tbody>\n",
       "    <tr>\n",
       "      <th>0</th>\n",
       "      <td>1</td>\n",
       "      <td>CCSFS</td>\n",
       "      <td>Dragon Spacecraft Qualification Unit</td>\n",
       "      <td>N</td>\n",
       "      <td>LEO</td>\n",
       "      <td>SpaceX</td>\n",
       "      <td>Success</td>\n",
       "      <td>F9 v1.0</td>\n",
       "      <td>Failure</td>\n",
       "      <td>2010-06-04</td>\n",
       "      <td>18:45:00</td>\n",
       "    </tr>\n",
       "    <tr>\n",
       "      <th>1</th>\n",
       "      <td>2</td>\n",
       "      <td>CCSFS</td>\n",
       "      <td>SpaceX COTS Demo Flight 1</td>\n",
       "      <td>U</td>\n",
       "      <td>LEO</td>\n",
       "      <td>NASA</td>\n",
       "      <td>Success</td>\n",
       "      <td>F9 v1.0</td>\n",
       "      <td>Failure</td>\n",
       "      <td>2010-12-08</td>\n",
       "      <td>15:43:00</td>\n",
       "    </tr>\n",
       "    <tr>\n",
       "      <th>2</th>\n",
       "      <td>3</td>\n",
       "      <td>CCSFS</td>\n",
       "      <td>SpaceX COTS Demo Flight 2</td>\n",
       "      <td>525 kg</td>\n",
       "      <td>LEO</td>\n",
       "      <td>NASA</td>\n",
       "      <td>Success</td>\n",
       "      <td>F9 v1.0</td>\n",
       "      <td>No attempt</td>\n",
       "      <td>2012-05-22</td>\n",
       "      <td>07:44:00</td>\n",
       "    </tr>\n",
       "    <tr>\n",
       "      <th>3</th>\n",
       "      <td>4</td>\n",
       "      <td>CCSFS</td>\n",
       "      <td>SpaceX CRS-1</td>\n",
       "      <td>4,700 kg</td>\n",
       "      <td>LEO</td>\n",
       "      <td>NASA</td>\n",
       "      <td>Success</td>\n",
       "      <td>F9 v1.0</td>\n",
       "      <td>No attempt</td>\n",
       "      <td>2012-10-08</td>\n",
       "      <td>00:35:00</td>\n",
       "    </tr>\n",
       "    <tr>\n",
       "      <th>4</th>\n",
       "      <td>5</td>\n",
       "      <td>CCSFS</td>\n",
       "      <td>SpaceX CRS-2</td>\n",
       "      <td>4,877 kg</td>\n",
       "      <td>LEO</td>\n",
       "      <td>NASA</td>\n",
       "      <td>Success</td>\n",
       "      <td>F9 v1.0</td>\n",
       "      <td>No attempt</td>\n",
       "      <td>2013-03-01</td>\n",
       "      <td>15:10:00</td>\n",
       "    </tr>\n",
       "  </tbody>\n",
       "</table>\n",
       "</div>"
      ],
      "text/plain": [
       "  Flight No. Launch site                               Payload Payload mass  \\\n",
       "0          1       CCSFS  Dragon Spacecraft Qualification Unit            N   \n",
       "1          2       CCSFS             SpaceX COTS Demo Flight 1            U   \n",
       "2          3       CCSFS             SpaceX COTS Demo Flight 2       525 kg   \n",
       "3          4       CCSFS                          SpaceX CRS-1     4,700 kg   \n",
       "4          5       CCSFS                          SpaceX CRS-2     4,877 kg   \n",
       "\n",
       "  Orbit Customer Launch outcome Version Booster Booster landing        Date  \\\n",
       "0   LEO   SpaceX        Success        F9 v1.0          Failure  2010-06-04   \n",
       "1   LEO     NASA        Success        F9 v1.0          Failure  2010-12-08   \n",
       "2   LEO     NASA        Success        F9 v1.0       No attempt  2012-05-22   \n",
       "3   LEO     NASA        Success        F9 v1.0       No attempt  2012-10-08   \n",
       "4   LEO     NASA        Success        F9 v1.0       No attempt  2013-03-01   \n",
       "\n",
       "       Time  \n",
       "0  18:45:00  \n",
       "1  15:43:00  \n",
       "2  07:44:00  \n",
       "3  00:35:00  \n",
       "4  15:10:00  "
      ]
     },
     "execution_count": 70,
     "metadata": {},
     "output_type": "execute_result"
    }
   ],
   "source": [
    "data_from_wiki.head()"
   ]
  },
  {
   "cell_type": "code",
   "execution_count": 71,
   "id": "a877a41d-48fa-44a0-bc5a-c2ebea9e629b",
   "metadata": {},
   "outputs": [
    {
     "data": {
      "text/plain": [
       "(241, 11)"
      ]
     },
     "execution_count": 71,
     "metadata": {},
     "output_type": "execute_result"
    }
   ],
   "source": [
    "data_from_wiki.shape"
   ]
  },
  {
   "cell_type": "code",
   "execution_count": 87,
   "id": "d23d2fe3-8f6e-4f25-9353-46631252769f",
   "metadata": {},
   "outputs": [
    {
     "data": {
      "text/plain": [
       "Flight No.         object\n",
       "Launch site        object\n",
       "Payload            object\n",
       "Payload mass       object\n",
       "Orbit              object\n",
       "Customer           object\n",
       "Launch outcome     object\n",
       "Version Booster    object\n",
       "Booster landing    object\n",
       "Date               object\n",
       "Time               object\n",
       "dtype: object"
      ]
     },
     "execution_count": 87,
     "metadata": {},
     "output_type": "execute_result"
    }
   ],
   "source": [
    "data_from_wiki.dtypes"
   ]
  },
  {
   "cell_type": "markdown",
   "id": "68bf572b-3400-4577-a666-561d07de7720",
   "metadata": {},
   "source": [
    "Now the dataset is clear. Let save it as a *csv* file for future use."
   ]
  },
  {
   "cell_type": "code",
   "execution_count": 106,
   "id": "e64a5b04-6e21-4f42-8c5b-314e7db60ac3",
   "metadata": {},
   "outputs": [],
   "source": [
    "data_from_wiki.to_csv('spacex_falcon9_wiki.csv', index=False)"
   ]
  },
  {
   "cell_type": "markdown",
   "id": "058055d0-89f2-4b05-aad3-c3958de8b4f6",
   "metadata": {},
   "source": [
    "Now we have the dataset in a CSV file. We can do further processing using this csv file.\n",
    "\n",
    "- Please refer [Data_collection_spacex_api.ipynb](Data_collection_spacex_api.ipynb) for data collection SpaceX API.\n",
    "- Please refer [Complete_dataset.ipynb](Complete_dataset.ipynb) to see the implementatin of the final dataset.\n",
    "- Please refer [SpaceX.ipynb](SpaceX.ipynb) Notebook file for the rest of the project."
   ]
  }
 ],
 "metadata": {
  "kernelspec": {
   "display_name": "Python 3 (ipykernel)",
   "language": "python",
   "name": "python3"
  },
  "language_info": {
   "codemirror_mode": {
    "name": "ipython",
    "version": 3
   },
   "file_extension": ".py",
   "mimetype": "text/x-python",
   "name": "python",
   "nbconvert_exporter": "python",
   "pygments_lexer": "ipython3",
   "version": "3.10.9"
  }
 },
 "nbformat": 4,
 "nbformat_minor": 5
}
